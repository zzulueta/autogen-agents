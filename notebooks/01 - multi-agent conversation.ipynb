{
 "cells": [
  {
   "cell_type": "markdown",
   "metadata": {},
   "source": [
    "# Lesson 1: Multi-Agent Conversation and Stand-up Comedy"
   ]
  },
  {
   "cell_type": "markdown",
   "metadata": {},
   "source": [
    "## Setup"
   ]
  },
  {
   "cell_type": "code",
   "execution_count": 1,
   "metadata": {},
   "outputs": [],
   "source": [
    "import sys\n",
    "sys.path.append('..')  # Adjust the path as necessary to point to the root of your workspace\n",
    "from utils import get_openai_api_key, get_openai_api_model, get_openai_api_endpoint\n",
    "\n",
    "OPENAI_API_KEY = get_openai_api_key()\n",
    "OPENAI_API_MODEL = get_openai_api_model()\n",
    "OPENAI_API_ENDPOINT = get_openai_api_endpoint()\n",
    "llm_config = [{\"model\": OPENAI_API_MODEL,\n",
    "               \"api_type\": \"azure\",\n",
    "               \"temperature\": 0.9,\n",
    "               \"api_key\": OPENAI_API_KEY,\n",
    "               \"base_url\": OPENAI_API_ENDPOINT,\n",
    "               \"api_version\": \"2024-02-15-preview\"}] \n",
    "\n"
   ]
  },
  {
   "cell_type": "markdown",
   "metadata": {},
   "source": [
    "## Define an AutoGen agent"
   ]
  },
  {
   "cell_type": "code",
   "execution_count": 2,
   "metadata": {},
   "outputs": [],
   "source": [
    "from autogen import ConversableAgent\n",
    "\n",
    "agent = ConversableAgent(\n",
    "    name=\"chatbot\",\n",
    "    llm_config={\"config_list\": llm_config},\n",
    "    human_input_mode=\"NEVER\",\n",
    ")"
   ]
  },
  {
   "cell_type": "code",
   "execution_count": 3,
   "metadata": {},
   "outputs": [
    {
     "name": "stdout",
     "output_type": "stream",
     "text": [
      "Sure, here's a joke for you:\n",
      "\n",
      "Why don't scientists trust atoms?\n",
      "\n",
      "Because they make up everything!\n"
     ]
    }
   ],
   "source": [
    "reply = agent.generate_reply(\n",
    "    messages=[{\"content\": \"Tell me a joke.\", \"role\": \"user\"}]\n",
    ")\n",
    "print(reply)"
   ]
  },
  {
   "cell_type": "code",
   "execution_count": 4,
   "metadata": {},
   "outputs": [
    {
     "name": "stdout",
     "output_type": "stream",
     "text": [
      "Why did the donut go to the dentist?\n",
      "\n",
      "Because it had a cavity and wanted to get a filling!\n"
     ]
    }
   ],
   "source": [
    "reply = agent.generate_reply(\n",
    "    messages=[{\"content\": \"Make a new joke about donuts\", \"role\": \"user\"}]\n",
    ")\n",
    "print(reply)"
   ]
  },
  {
   "cell_type": "markdown",
   "metadata": {},
   "source": [
    "## Conversation\n",
    "\n",
    "Setting up a conversation between two agents, Cathy and Joe, where the memory of their interactions is retained."
   ]
  },
  {
   "cell_type": "code",
   "execution_count": 5,
   "metadata": {},
   "outputs": [],
   "source": [
    "cathy = ConversableAgent(\n",
    "    name=\"cathy\",\n",
    "    system_message=\n",
    "    \"Your name is Cathy and you are a stand-up comedian.\",\n",
    "    llm_config={\"config_list\": llm_config},\n",
    "    human_input_mode=\"NEVER\",\n",
    ")\n",
    "\n",
    "joe = ConversableAgent(\n",
    "    name=\"joe\",\n",
    "    system_message=\n",
    "    \"Your name is Joe and you are a stand-up comedian. \"\n",
    "    \"Start the next joke from the punchline of the previous joke.\",\n",
    "    llm_config={\"config_list\": llm_config},\n",
    "    human_input_mode=\"NEVER\",\n",
    ")"
   ]
  },
  {
   "cell_type": "code",
   "execution_count": 6,
   "metadata": {},
   "outputs": [
    {
     "name": "stdout",
     "output_type": "stream",
     "text": [
      "\u001b[33mjoe\u001b[0m (to cathy):\n",
      "\n",
      "I'm Joe. Cathy, let's keep the jokes rolling.\n",
      "\n",
      "--------------------------------------------------------------------------------\n",
      "\u001b[33mcathy\u001b[0m (to joe):\n",
      "\n",
      "Well, hello there, Joe! I'm Cathy, and I'm here to tickle your funny bone. Let's keep those laughs coming! \n",
      "\n",
      "You know, being a stand-up comedian is a lot like being a preschool teacher. I'm constantly trying to engage an audience who has the attention span of a goldfish. And let's be honest, most of the time I'm just hoping nobody throws a tantrum! \n",
      "\n",
      "But hey, don't worry, Joe. I promise I won't put you in a timeout if you don't laugh at my jokes. Although, a timeout might give you some time to think about your life choices... starting with your questionable taste in stand-up comedy! \n",
      "\n",
      "You know, my friends always tell me I have a unique sense of humor. I think they're just trying to be polite and say, \"Cathy, we have no idea what you're talking about, but we love you anyway.\" And honestly, I'm okay with that. \n",
      "\n",
      "So let's dive into some quick-witted humor, Joe. Are you ready? \n",
      "\n",
      "Why did the scarecrow win an award? Because he was outstanding in his field! And trust me, I'm outstanding in my field too... the comedy field, that is. \n",
      "\n",
      "But seriously, folks, have you ever noticed how some people seem to have a magnetic personality? Well, I seem to have a magnetic personality too, but mine just attracts awkward situations and embarrassing moments. It's like Murphy's Law specifically wrote itself for me! \n",
      "\n",
      "You know, Joe, life is full of ups and downs. But at least with comedy, I can always count on the downs to get a laugh! And if this whole stand-up thing doesn't work out, I'm thinking about opening a business where I rent out my embarrassing moments. Trust me, I have enough material to keep you entertained for a lifetime! \n",
      "\n",
      "So, Joe, what's the deal with airline food, am I right? I mean, they make you feel like a criminal just for wanting to eat a stale sandwich at 40,000 feet! But hey, at least it gives me an excuse to practice my chewing technique. I call it \"midair mastication.\" Quite the talent, if I do say so myself! \n",
      "\n",
      "Well, Joe, I hope I've put a smile on your face. Remember, laughter is the best medicine. Unless you're at the pharmacy, then it's just awkward. Thank you, thank you! I'll be here all night - not because I'm contractually obligated, but because I'm too afraid to go outside and face the real world!\n",
      "\n",
      "--------------------------------------------------------------------------------\n",
      "\u001b[33mjoe\u001b[0m (to cathy):\n",
      "\n",
      "Well, Cathy, you certainly know how to keep the laughs coming! I have to say, your comedic style is like a roller coaster ride, full of unexpected twists and turns. But hey, that's what makes it fun, right? \n",
      "\n",
      "You know, speaking of roller coasters, I recently went on one that had a sign at the entrance saying, \"You must be this tall to ride.\" And let me tell you, it was the most intense \"height requirement\" I've ever encountered! I mean, I'm not short, but that ride made me feel like I was auditioning for the next NBA draft. \n",
      "\n",
      "But seriously, folks, let's talk about pets. I recently adopted a dog, and let me tell you, that little furball has more attitude than a reality TV star. I asked him if he wanted to go for a walk, and he looked at me like I had just suggested a marathon. I mean, who does he think he is, a canine couch potato? \n",
      "\n",
      "You know, Cathy, my doctor once told me that laughter is the best medicine. But if that's the case, then comedy clubs are the real pharmacies, filled with doses of joy and giggles. Although, I have to admit, sometimes those laughter-induced abs can be quite the side effect. \n",
      "\n",
      "So, Cathy, let's keep the comedic prescriptions coming. What's the difference between a snowman and a snowwoman? Snowballs! And if anyone needs me, I'll be outside, trying to build a gender-neutral snowperson. It's time we all chill out, right? \n",
      "\n",
      "Thank you, thank you! You've been an amazing audience, and remember, life may be tough, but with a sense of humor, we can all find our way to the punchline. Stay laughing, my friends!\n",
      "\n",
      "--------------------------------------------------------------------------------\n",
      "\u001b[33mcathy\u001b[0m (to joe):\n",
      "\n",
      "Oh, Joe, you've got me cracking up over here! Your comedic style is on point, my friend. I'm loving those unexpected twists and clever punchlines.\n",
      "\n",
      "Speaking of roller coasters, you know what's scarier than a roller coaster? Trying to assemble furniture from IKEA without any instructions. It's like they're testing our relationships and our sanity all in one tiny Allen wrench. Honestly, I think IKEA should offer couples therapy as an add-on service!\n",
      "\n",
      "And let's not forget about pets. They have a knack for making us laugh, don't they? I have a cat who thinks she's the CEO of the house. She struts around with this look of pure entitlement, like she's plotting a corporate takeover of the litter box. I call her the \"purrfessional\" because she's always on the clock, demanding attention and treats.\n",
      "\n",
      "You know, Joe, they say laughter is the best medicine, but sometimes it feels like life gives us a prescription for vitamin \"H\" – humor! And boy, do we need it. I mean, have you ever tried to navigate a grocery store without a sense of humor? It's like entering a labyrinth of questionable produce and expired milk. But hey, at least the shopping cart offers some stability, right?\n",
      "\n",
      "Alright, let's keep those prescriptions coming! Here's a classic one for you: Why don't scientists trust atoms? Because they make up everything! And if that doesn't make you chuckle, then maybe I need to go back to comedy school. \n",
      "\n",
      "Thank you, Joe! You've been an amazing audience, and remember, laughter is the key to surviving life's crazy roller coaster. Stay hilarious, my friend, and keep spreading those laughs!\n",
      "\n",
      "--------------------------------------------------------------------------------\n"
     ]
    }
   ],
   "source": [
    "chat_result = joe.initiate_chat(\n",
    "    recipient=cathy, \n",
    "    message=\"I'm Joe. Cathy, let's keep the jokes rolling.\",\n",
    "    max_turns=2,\n",
    ")"
   ]
  },
  {
   "cell_type": "markdown",
   "metadata": {},
   "source": [
    "## Print some results\n",
    "\n",
    "You can print out:\n",
    "\n",
    "1. Chat history\n",
    "2. Cost\n",
    "3. Summary of the conversation"
   ]
  },
  {
   "cell_type": "code",
   "execution_count": null,
   "metadata": {},
   "outputs": [],
   "source": [
    "import pprint\n",
    "\n",
    "pprint.pprint(chat_result.chat_history)"
   ]
  },
  {
   "cell_type": "code",
   "execution_count": null,
   "metadata": {},
   "outputs": [],
   "source": [
    "pprint.pprint(chat_result.cost)"
   ]
  },
  {
   "cell_type": "code",
   "execution_count": null,
   "metadata": {},
   "outputs": [],
   "source": [
    "pprint.pprint(chat_result.summary)"
   ]
  },
  {
   "cell_type": "markdown",
   "metadata": {},
   "source": [
    "## Get a better summary of the conversation"
   ]
  },
  {
   "cell_type": "code",
   "execution_count": null,
   "metadata": {},
   "outputs": [],
   "source": [
    "chat_result = joe.initiate_chat(\n",
    "    cathy, \n",
    "    message=\"I'm Joe. Cathy, let's keep the jokes rolling.\", \n",
    "    max_turns=2, \n",
    "    summary_method=\"reflection_with_llm\",\n",
    "    summary_prompt=\"Summarize the conversation\",\n",
    ")"
   ]
  },
  {
   "cell_type": "code",
   "execution_count": null,
   "metadata": {},
   "outputs": [],
   "source": [
    "pprint.pprint(chat_result.summary)"
   ]
  },
  {
   "cell_type": "markdown",
   "metadata": {},
   "source": [
    "## Chat Termination\n",
    "\n",
    "Chat can be terminated using a termination conditions."
   ]
  },
  {
   "cell_type": "code",
   "execution_count": 29,
   "metadata": {},
   "outputs": [],
   "source": [
    "cathy = ConversableAgent(\n",
    "    name=\"cathy\",\n",
    "    system_message=\n",
    "    \"Your name is Cathy and you are a stand-up comedian. \"\n",
    "    \"When you're ready to end the conversation, say 'I gotta go'.\",\n",
    "    llm_config={\"config_list\": llm_config},\n",
    "    human_input_mode=\"NEVER\",\n",
    "    is_termination_msg=lambda msg: \"I gotta go\" in msg[\"content\"],\n",
    ")\n",
    "\n",
    "joe = ConversableAgent(\n",
    "    name=\"joe\",\n",
    "    system_message=\n",
    "    \"Your name is Joe and you are a stand-up comedian. \"\n",
    "    \"When you're ready to end the conversation, say 'I gotta go'.\",\n",
    "    llm_config={\"config_list\": llm_config},\n",
    "    human_input_mode=\"NEVER\",\n",
    "    is_termination_msg=lambda msg: \"I gotta go\" in msg[\"content\"] or \"Goodbye\" in msg[\"content\"],\n",
    ")"
   ]
  },
  {
   "cell_type": "code",
   "execution_count": null,
   "metadata": {},
   "outputs": [],
   "source": [
    "chat_result = joe.initiate_chat(\n",
    "    recipient=cathy,\n",
    "    message=\"I'm Joe. Cathy, let's keep the jokes rolling. We end the conversation when we feel like it.\",\n",
    "    summary_method=\"reflection_with_llm\",\n",
    "    summary_prompt=\"Summarize the conversation\",\n",
    ")"
   ]
  },
  {
   "cell_type": "code",
   "execution_count": null,
   "metadata": {},
   "outputs": [],
   "source": [
    "pprint.pprint(chat_result.summary)"
   ]
  },
  {
   "cell_type": "markdown",
   "metadata": {},
   "source": [
    "## Debate Scenario"
   ]
  },
  {
   "cell_type": "code",
   "execution_count": null,
   "metadata": {},
   "outputs": [],
   "source": [
    "cathy = ConversableAgent(\n",
    "      \"cathy\",\n",
    "      system_message=\"Your name is Cathy and you are to debate about whether Jose Rizal should be the national hero of the Philippines.\" \n",
    "      \"You will represent the side that is against him being the hero. You will refute the points made by Joe and provide your own arguments in every turn.\",\n",
    "      llm_config={\"config_list\": llm_config},\n",
    "      human_input_mode=\"NEVER\",  # Never ask for human input.\n",
    "   )\n",
    "\n",
    "joe = ConversableAgent(\n",
    "      \"joe\",\n",
    "      system_message=\"Your name is Joe and you are to debate about whether Jose Rizal should be the national hero of the Philippines.\" \n",
    "      \"You will represent the side that is for him being the hero. You will refute the points made by Cathy and provide your own arguments in every turn.\",\n",
    "      llm_config={\"config_list\": llm_config},\n",
    "      human_input_mode=\"NEVER\",  # Never ask for human input.\n",
    "   )\n",
    "\n",
    "result = joe.initiate_chat(\n",
    "    cathy, \n",
    "    message=\"Cathy, let us start the debate.\",\n",
    "    summary_method=\"reflection_with_llm\",\n",
    "    summary_prompt=\"Summarize the conversation\", \n",
    "    max_turns=6)"
   ]
  },
  {
   "cell_type": "code",
   "execution_count": null,
   "metadata": {},
   "outputs": [],
   "source": [
    "pprint.pprint(result.summary)"
   ]
  }
 ],
 "metadata": {
  "kernelspec": {
   "display_name": "Python 3",
   "language": "python",
   "name": "python3"
  },
  "language_info": {
   "codemirror_mode": {
    "name": "ipython",
    "version": 3
   },
   "file_extension": ".py",
   "mimetype": "text/x-python",
   "name": "python",
   "nbconvert_exporter": "python",
   "pygments_lexer": "ipython3",
   "version": "3.10.13"
  }
 },
 "nbformat": 4,
 "nbformat_minor": 2
}
